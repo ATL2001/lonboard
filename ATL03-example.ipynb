{
 "cells": [
  {
   "cell_type": "code",
   "execution_count": 1,
   "id": "c5a5692d-05c3-46fa-9b04-bf420b25afa1",
   "metadata": {},
   "outputs": [],
   "source": [
    "import geopandas as gpd\n",
    "import h5py\n",
    "import numpy as np\n",
    "import pandas as pd\n",
    "from shapely.geometry import Point\n",
    "\n",
    "# local import\n",
    "from deck_widget.widget import DeckWidget"
   ]
  },
  {
   "cell_type": "code",
   "execution_count": 2,
   "id": "46615cbd-f8e1-414f-8a49-b12500e03e75",
   "metadata": {},
   "outputs": [],
   "source": [
    "# You can download the following file from\n",
    "# https://data.nsidc.earthdatacloud.nasa.gov/nsidc-cumulus-prod-protected/ATLAS/ATL03/005/2018/10/13/ATL03_20181013235645_02340114_005_01.h5\n",
    "path = 'ATL03_20181013235645_02340114_005_01.h5'\n",
    "h5file = h5py.File(path)\n",
    "lons = np.array(h5file['/gt1l/heights/lon_ph'])\n",
    "lats = np.array(h5file['/gt1l/heights/lat_ph'])\n",
    "heights = np.array(h5file['/gt1l/heights/h_ph'])"
   ]
  },
  {
   "cell_type": "code",
   "execution_count": 3,
   "id": "34771252-d7c7-4d36-a474-64c3e7cbab32",
   "metadata": {},
   "outputs": [],
   "source": [
    "gdf = gpd.GeoDataFrame(geometry=[Point(*xyz) for xyz in zip(lons, lats, heights)])"
   ]
  },
  {
   "cell_type": "code",
   "execution_count": 4,
   "id": "120ab4cd-8509-47d2-b2e4-28c853b292c7",
   "metadata": {},
   "outputs": [
    {
     "data": {
      "text/html": [
       "<div>\n",
       "<style scoped>\n",
       "    .dataframe tbody tr th:only-of-type {\n",
       "        vertical-align: middle;\n",
       "    }\n",
       "\n",
       "    .dataframe tbody tr th {\n",
       "        vertical-align: top;\n",
       "    }\n",
       "\n",
       "    .dataframe thead th {\n",
       "        text-align: right;\n",
       "    }\n",
       "</style>\n",
       "<table border=\"1\" class=\"dataframe\">\n",
       "  <thead>\n",
       "    <tr style=\"text-align: right;\">\n",
       "      <th></th>\n",
       "      <th>geometry</th>\n",
       "    </tr>\n",
       "  </thead>\n",
       "  <tbody>\n",
       "    <tr>\n",
       "      <th>0</th>\n",
       "      <td>POINT Z (-124.48671 -24.97569 124.02888)</td>\n",
       "    </tr>\n",
       "    <tr>\n",
       "      <th>1</th>\n",
       "      <td>POINT Z (-124.48671 -24.97569 100.97400)</td>\n",
       "    </tr>\n",
       "    <tr>\n",
       "      <th>2</th>\n",
       "      <td>POINT Z (-124.48671 -24.97569 114.86094)</td>\n",
       "    </tr>\n",
       "    <tr>\n",
       "      <th>3</th>\n",
       "      <td>POINT Z (-124.48672 -24.97568 132.07475)</td>\n",
       "    </tr>\n",
       "    <tr>\n",
       "      <th>4</th>\n",
       "      <td>POINT Z (-124.48671 -24.97568 108.56876)</td>\n",
       "    </tr>\n",
       "    <tr>\n",
       "      <th>...</th>\n",
       "      <td>...</td>\n",
       "    </tr>\n",
       "    <tr>\n",
       "      <th>11347</th>\n",
       "      <td>POINT Z (-124.56434 -24.25366 -130.55228)</td>\n",
       "    </tr>\n",
       "    <tr>\n",
       "      <th>11348</th>\n",
       "      <td>POINT Z (-124.56434 -24.25366 -153.80170)</td>\n",
       "    </tr>\n",
       "    <tr>\n",
       "      <th>11349</th>\n",
       "      <td>POINT Z (-124.56434 -24.25366 -134.52451)</td>\n",
       "    </tr>\n",
       "    <tr>\n",
       "      <th>11350</th>\n",
       "      <td>POINT Z (-124.56434 -24.25365 -128.74466)</td>\n",
       "    </tr>\n",
       "    <tr>\n",
       "      <th>11351</th>\n",
       "      <td>POINT Z (-124.56434 -24.25365 -140.25656)</td>\n",
       "    </tr>\n",
       "  </tbody>\n",
       "</table>\n",
       "<p>11352 rows × 1 columns</p>\n",
       "</div>"
      ],
      "text/plain": [
       "                                        geometry\n",
       "0       POINT Z (-124.48671 -24.97569 124.02888)\n",
       "1       POINT Z (-124.48671 -24.97569 100.97400)\n",
       "2       POINT Z (-124.48671 -24.97569 114.86094)\n",
       "3       POINT Z (-124.48672 -24.97568 132.07475)\n",
       "4       POINT Z (-124.48671 -24.97568 108.56876)\n",
       "...                                          ...\n",
       "11347  POINT Z (-124.56434 -24.25366 -130.55228)\n",
       "11348  POINT Z (-124.56434 -24.25366 -153.80170)\n",
       "11349  POINT Z (-124.56434 -24.25366 -134.52451)\n",
       "11350  POINT Z (-124.56434 -24.25365 -128.74466)\n",
       "11351  POINT Z (-124.56434 -24.25365 -140.25656)\n",
       "\n",
       "[11352 rows x 1 columns]"
      ]
     },
     "execution_count": 4,
     "metadata": {},
     "output_type": "execute_result"
    }
   ],
   "source": [
    "gdf"
   ]
  },
  {
   "cell_type": "code",
   "execution_count": 5,
   "id": "f35c8ab8-fdff-4877-9395-b5146ea0e9ef",
   "metadata": {},
   "outputs": [
    {
     "data": {
      "application/vnd.jupyter.widget-view+json": {
       "model_id": "ebe0c0d3aa68441d8f33c4c2df3d0872",
       "version_major": 2,
       "version_minor": 0
      },
      "text/plain": [
       "DeckWidget(buffer=b'ARROW1\\x00\\x00\\xff\\xff\\xff\\xffx\\x02\\x00\\x00\\x10\\x00\\x00\\x00\\x00\\x00\\n\\x00\\x0e\\x00\\x06\\x00\\…"
      ]
     },
     "execution_count": 5,
     "metadata": {},
     "output_type": "execute_result"
    }
   ],
   "source": [
    "DeckWidget.from_geopandas(gdf)"
   ]
  },
  {
   "cell_type": "code",
   "execution_count": null,
   "id": "2a99dffe-f3d1-4b8b-98ce-b384ca9f26bc",
   "metadata": {},
   "outputs": [],
   "source": []
  }
 ],
 "metadata": {
  "kernelspec": {
   "display_name": "Python 3 (ipykernel)",
   "language": "python",
   "name": "python3"
  },
  "language_info": {
   "codemirror_mode": {
    "name": "ipython",
    "version": 3
   },
   "file_extension": ".py",
   "mimetype": "text/x-python",
   "name": "python",
   "nbconvert_exporter": "python",
   "pygments_lexer": "ipython3",
   "version": "3.11.5"
  }
 },
 "nbformat": 4,
 "nbformat_minor": 5
}
