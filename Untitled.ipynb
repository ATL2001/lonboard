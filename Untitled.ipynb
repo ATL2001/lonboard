{
 "cells": [
  {
   "cell_type": "code",
   "execution_count": 1,
   "id": "c5a5692d-05c3-46fa-9b04-bf420b25afa1",
   "metadata": {},
   "outputs": [],
   "source": [
    "import geopandas as gpd\n",
    "from deck_widget.widget import DeckWidget"
   ]
  },
  {
   "cell_type": "code",
   "execution_count": 2,
   "id": "46615cbd-f8e1-414f-8a49-b12500e03e75",
   "metadata": {},
   "outputs": [],
   "source": [
    "gdf = gpd.read_parquet('2019-01-01_performance_mobile_tiles.parquet')"
   ]
  },
  {
   "cell_type": "code",
   "execution_count": 3,
   "id": "37966b89-1776-4c16-891b-ad1878b713eb",
   "metadata": {},
   "outputs": [
    {
     "data": {
      "text/plain": [
       "(3231245, 4)"
      ]
     },
     "execution_count": 3,
     "metadata": {},
     "output_type": "execute_result"
    }
   ],
   "source": [
    "gdf.shape"
   ]
  },
  {
   "cell_type": "code",
   "execution_count": 4,
   "id": "0f242c60-96d4-4d31-9689-b97b5ad28ffd",
   "metadata": {},
   "outputs": [
    {
     "data": {
      "text/html": [
       "<div>\n",
       "<style scoped>\n",
       "    .dataframe tbody tr th:only-of-type {\n",
       "        vertical-align: middle;\n",
       "    }\n",
       "\n",
       "    .dataframe tbody tr th {\n",
       "        vertical-align: top;\n",
       "    }\n",
       "\n",
       "    .dataframe thead th {\n",
       "        text-align: right;\n",
       "    }\n",
       "</style>\n",
       "<table border=\"1\" class=\"dataframe\">\n",
       "  <thead>\n",
       "    <tr style=\"text-align: right;\">\n",
       "      <th></th>\n",
       "      <th>avg_d_kbps</th>\n",
       "      <th>avg_u_kbps</th>\n",
       "      <th>avg_lat_ms</th>\n",
       "      <th>geometry</th>\n",
       "    </tr>\n",
       "  </thead>\n",
       "  <tbody>\n",
       "    <tr>\n",
       "      <th>0</th>\n",
       "      <td>5983</td>\n",
       "      <td>7886</td>\n",
       "      <td>68</td>\n",
       "      <td>POINT (-160.01862 70.63722)</td>\n",
       "    </tr>\n",
       "    <tr>\n",
       "      <th>1</th>\n",
       "      <td>3748</td>\n",
       "      <td>5841</td>\n",
       "      <td>78</td>\n",
       "      <td>POINT (-160.04059 70.63357)</td>\n",
       "    </tr>\n",
       "  </tbody>\n",
       "</table>\n",
       "</div>"
      ],
      "text/plain": [
       "   avg_d_kbps  avg_u_kbps  avg_lat_ms                     geometry\n",
       "0        5983        7886          68  POINT (-160.01862 70.63722)\n",
       "1        3748        5841          78  POINT (-160.04059 70.63357)"
      ]
     },
     "execution_count": 4,
     "metadata": {},
     "output_type": "execute_result"
    }
   ],
   "source": [
    "gdf.head(2)"
   ]
  },
  {
   "cell_type": "code",
   "execution_count": 5,
   "id": "f35c8ab8-fdff-4877-9395-b5146ea0e9ef",
   "metadata": {},
   "outputs": [
    {
     "data": {
      "application/vnd.jupyter.widget-view+json": {
       "model_id": "a08c6e850b474a99a665de8f74afea10",
       "version_major": 2,
       "version_minor": 0
      },
      "text/plain": [
       "DeckWidget(buffer=b'ARROW1\\x00\\x00\\xff\\xff\\xff\\xff\\x90\\x04\\x00\\x00\\x10\\x00\\x00\\x00\\x00\\x00\\n\\x00\\x0e\\x00\\x06\\x…"
      ]
     },
     "execution_count": 5,
     "metadata": {},
     "output_type": "execute_result"
    }
   ],
   "source": [
    "DeckWidget.from_geopandas(gdf)"
   ]
  },
  {
   "cell_type": "code",
   "execution_count": null,
   "id": "2a99dffe-f3d1-4b8b-98ce-b384ca9f26bc",
   "metadata": {},
   "outputs": [],
   "source": []
  }
 ],
 "metadata": {
  "kernelspec": {
   "display_name": "deck_widget",
   "language": "python",
   "name": "deck_widget"
  },
  "language_info": {
   "codemirror_mode": {
    "name": "ipython",
    "version": 3
   },
   "file_extension": ".py",
   "mimetype": "text/x-python",
   "name": "python",
   "nbconvert_exporter": "python",
   "pygments_lexer": "ipython3",
   "version": "3.11.4"
  }
 },
 "nbformat": 4,
 "nbformat_minor": 5
}
